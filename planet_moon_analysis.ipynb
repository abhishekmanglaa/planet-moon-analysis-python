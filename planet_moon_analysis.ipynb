{
  "nbformat": 4,
  "nbformat_minor": 0,
  "metadata": {
    "colab": {
      "name": "planet-moon-analysis.ipynb",
      "provenance": [],
      "collapsed_sections": [],
      "include_colab_link": true
    },
    "kernelspec": {
      "display_name": "Python 3",
      "language": "python",
      "name": "python3"
    },
    "language_info": {
      "codemirror_mode": {
        "name": "ipython",
        "version": 3
      },
      "file_extension": ".py",
      "mimetype": "text/x-python",
      "name": "python",
      "nbconvert_exporter": "python",
      "pygments_lexer": "ipython3",
      "version": "3.7.4"
    }
  },
  "cells": [
    {
      "cell_type": "markdown",
      "metadata": {
        "id": "view-in-github",
        "colab_type": "text"
      },
      "source": [
        "<a href=\"https://colab.research.google.com/github/abhishekmanglaa/planet-moon-analysis-python/blob/main/planet_moon_analysis.ipynb\" target=\"_parent\"><img src=\"https://colab.research.google.com/assets/colab-badge.svg\" alt=\"Open In Colab\"/></a>"
      ]
    },
    {
      "cell_type": "markdown",
      "metadata": {
        "id": "9-u54IDmdqXL"
      },
      "source": [
        "# Analysis of Planet-Moon Data"
      ]
    },
    {
      "cell_type": "code",
      "metadata": {
        "id": "XNCR3UOjIdTD"
      },
      "source": [
        "#importing the libraries\n",
        "import pandas as pd\n",
        "import numpy as np\n",
        "import re\n",
        "import matplotlib.pyplot as plt"
      ],
      "execution_count": 20,
      "outputs": []
    },
    {
      "cell_type": "markdown",
      "metadata": {
        "id": "t3GrFnEvdqXS"
      },
      "source": [
        "## Part (1) Importing the data"
      ]
    },
    {
      "cell_type": "code",
      "metadata": {
        "id": "SNrY99CrIjT8"
      },
      "source": [
        "#Reading the datasets, the table is the 6th table in the list hence we select the 6th using [5]\n",
        "moonDF = (pd.read_html('https://en.wikipedia.org/wiki/List_of_natural_satellites#List.html', \n",
        "                   header = 0)\n",
        "      [5])"
      ],
      "execution_count": 21,
      "outputs": []
    },
    {
      "cell_type": "code",
      "metadata": {
        "id": "_-pUkB0RAlo0",
        "outputId": "a22968f5-bc86-45ff-f54d-b616c9d51ef9",
        "colab": {
          "base_uri": "https://localhost:8080/",
          "height": 204
        }
      },
      "source": [
        "#Lets look at the dataframe\n",
        "moonDF.head()"
      ],
      "execution_count": 22,
      "outputs": [
        {
          "output_type": "execute_result",
          "data": {
            "text/html": [
              "<div>\n",
              "<style scoped>\n",
              "    .dataframe tbody tr th:only-of-type {\n",
              "        vertical-align: middle;\n",
              "    }\n",
              "\n",
              "    .dataframe tbody tr th {\n",
              "        vertical-align: top;\n",
              "    }\n",
              "\n",
              "    .dataframe thead th {\n",
              "        text-align: right;\n",
              "    }\n",
              "</style>\n",
              "<table border=\"1\" class=\"dataframe\">\n",
              "  <thead>\n",
              "    <tr style=\"text-align: right;\">\n",
              "      <th></th>\n",
              "      <th>Image</th>\n",
              "      <th>Parent</th>\n",
              "      <th>Numeral</th>\n",
              "      <th>Name</th>\n",
              "      <th>Mean radius (km)</th>\n",
              "      <th>Semi-major axis (km)</th>\n",
              "      <th>Sidereal period (d) (r = retrograde)</th>\n",
              "      <th>Discovery year</th>\n",
              "      <th>Discovered by</th>\n",
              "      <th>Notes</th>\n",
              "      <th>Ref(s)</th>\n",
              "    </tr>\n",
              "  </thead>\n",
              "  <tbody>\n",
              "    <tr>\n",
              "      <th>0</th>\n",
              "      <td>NaN</td>\n",
              "      <td>Earth</td>\n",
              "      <td>I (1)</td>\n",
              "      <td>Moon</td>\n",
              "      <td>1737.1</td>\n",
              "      <td>384399</td>\n",
              "      <td>27.321582</td>\n",
              "      <td>Prehistoric</td>\n",
              "      <td>—</td>\n",
              "      <td>Synchronous rotation</td>\n",
              "      <td>[12]</td>\n",
              "    </tr>\n",
              "    <tr>\n",
              "      <th>1</th>\n",
              "      <td>NaN</td>\n",
              "      <td>Mars</td>\n",
              "      <td>I (1)</td>\n",
              "      <td>Phobos</td>\n",
              "      <td>11.1±0.15</td>\n",
              "      <td>9380</td>\n",
              "      <td>0.319</td>\n",
              "      <td>1877</td>\n",
              "      <td>Hall</td>\n",
              "      <td>NaN</td>\n",
              "      <td>[13][14][15]</td>\n",
              "    </tr>\n",
              "    <tr>\n",
              "      <th>2</th>\n",
              "      <td>NaN</td>\n",
              "      <td>Mars</td>\n",
              "      <td>II (2)</td>\n",
              "      <td>Deimos</td>\n",
              "      <td>6.2±0.18</td>\n",
              "      <td>23460</td>\n",
              "      <td>1.262</td>\n",
              "      <td>1877</td>\n",
              "      <td>Hall</td>\n",
              "      <td>NaN</td>\n",
              "      <td>[13][14][15]</td>\n",
              "    </tr>\n",
              "    <tr>\n",
              "      <th>3</th>\n",
              "      <td>NaN</td>\n",
              "      <td>Jupiter</td>\n",
              "      <td>I (1)</td>\n",
              "      <td>Io</td>\n",
              "      <td>1,818.1±0.1</td>\n",
              "      <td>421800</td>\n",
              "      <td>1.769</td>\n",
              "      <td>1610</td>\n",
              "      <td>Galileo</td>\n",
              "      <td>Main-group moon (Galilean)</td>\n",
              "      <td>[15][16]</td>\n",
              "    </tr>\n",
              "    <tr>\n",
              "      <th>4</th>\n",
              "      <td>NaN</td>\n",
              "      <td>Jupiter</td>\n",
              "      <td>II (2)</td>\n",
              "      <td>Europa</td>\n",
              "      <td>1560.7±0.7</td>\n",
              "      <td>671100</td>\n",
              "      <td>3.551</td>\n",
              "      <td>1610</td>\n",
              "      <td>Galileo</td>\n",
              "      <td>Main-group moon (Galilean)</td>\n",
              "      <td>[15][16]</td>\n",
              "    </tr>\n",
              "  </tbody>\n",
              "</table>\n",
              "</div>"
            ],
            "text/plain": [
              "   Image   Parent  ...                       Notes        Ref(s)\n",
              "0    NaN    Earth  ...        Synchronous rotation          [12]\n",
              "1    NaN     Mars  ...                         NaN  [13][14][15]\n",
              "2    NaN     Mars  ...                         NaN  [13][14][15]\n",
              "3    NaN  Jupiter  ...  Main-group moon (Galilean)      [15][16]\n",
              "4    NaN  Jupiter  ...  Main-group moon (Galilean)      [15][16]\n",
              "\n",
              "[5 rows x 11 columns]"
            ]
          },
          "metadata": {
            "tags": []
          },
          "execution_count": 22
        }
      ]
    },
    {
      "cell_type": "markdown",
      "metadata": {
        "id": "AMJmL0qKdqXb"
      },
      "source": [
        "## Part 2 (a) Renaming the columns for easy understanding"
      ]
    },
    {
      "cell_type": "code",
      "metadata": {
        "id": "OeLwBAWIJtpB"
      },
      "source": [
        "#Renaming the columns\n",
        "(moonDF.rename(columns = {'Image': 'image', \n",
        "                          'Parent': 'planet', \n",
        "                          'Numeral': 'number', \n",
        "                          'Mean radius (km)': 'avg_radius', \n",
        "                          'Semi-major axis (km)': 'sm_axis', \n",
        "                          'Sidereal period (d) (r = retrograde)': 'revolution_time', \n",
        "                          'Discovery year': 'discovery_year', \n",
        "                          'Discovered by': 'discovered_by', \n",
        "                          'Notes': 'notes', \n",
        "                          'Ref(s)': 'references', \n",
        "                          'Name': 'moon'}, \n",
        "               inplace = True))"
      ],
      "execution_count": 23,
      "outputs": []
    },
    {
      "cell_type": "code",
      "metadata": {
        "id": "YhC9PcK5Babq",
        "outputId": "ace26a67-777c-4567-d994-6d7b9dd02e58",
        "colab": {
          "base_uri": "https://localhost:8080/",
          "height": 204
        }
      },
      "source": [
        "#Let's look at the DF\n",
        "moonDF.head()"
      ],
      "execution_count": 24,
      "outputs": [
        {
          "output_type": "execute_result",
          "data": {
            "text/html": [
              "<div>\n",
              "<style scoped>\n",
              "    .dataframe tbody tr th:only-of-type {\n",
              "        vertical-align: middle;\n",
              "    }\n",
              "\n",
              "    .dataframe tbody tr th {\n",
              "        vertical-align: top;\n",
              "    }\n",
              "\n",
              "    .dataframe thead th {\n",
              "        text-align: right;\n",
              "    }\n",
              "</style>\n",
              "<table border=\"1\" class=\"dataframe\">\n",
              "  <thead>\n",
              "    <tr style=\"text-align: right;\">\n",
              "      <th></th>\n",
              "      <th>image</th>\n",
              "      <th>planet</th>\n",
              "      <th>number</th>\n",
              "      <th>moon</th>\n",
              "      <th>avg_radius</th>\n",
              "      <th>sm_axis</th>\n",
              "      <th>revolution_time</th>\n",
              "      <th>discovery_year</th>\n",
              "      <th>discovered_by</th>\n",
              "      <th>notes</th>\n",
              "      <th>references</th>\n",
              "    </tr>\n",
              "  </thead>\n",
              "  <tbody>\n",
              "    <tr>\n",
              "      <th>0</th>\n",
              "      <td>NaN</td>\n",
              "      <td>Earth</td>\n",
              "      <td>I (1)</td>\n",
              "      <td>Moon</td>\n",
              "      <td>1737.1</td>\n",
              "      <td>384399</td>\n",
              "      <td>27.321582</td>\n",
              "      <td>Prehistoric</td>\n",
              "      <td>—</td>\n",
              "      <td>Synchronous rotation</td>\n",
              "      <td>[12]</td>\n",
              "    </tr>\n",
              "    <tr>\n",
              "      <th>1</th>\n",
              "      <td>NaN</td>\n",
              "      <td>Mars</td>\n",
              "      <td>I (1)</td>\n",
              "      <td>Phobos</td>\n",
              "      <td>11.1±0.15</td>\n",
              "      <td>9380</td>\n",
              "      <td>0.319</td>\n",
              "      <td>1877</td>\n",
              "      <td>Hall</td>\n",
              "      <td>NaN</td>\n",
              "      <td>[13][14][15]</td>\n",
              "    </tr>\n",
              "    <tr>\n",
              "      <th>2</th>\n",
              "      <td>NaN</td>\n",
              "      <td>Mars</td>\n",
              "      <td>II (2)</td>\n",
              "      <td>Deimos</td>\n",
              "      <td>6.2±0.18</td>\n",
              "      <td>23460</td>\n",
              "      <td>1.262</td>\n",
              "      <td>1877</td>\n",
              "      <td>Hall</td>\n",
              "      <td>NaN</td>\n",
              "      <td>[13][14][15]</td>\n",
              "    </tr>\n",
              "    <tr>\n",
              "      <th>3</th>\n",
              "      <td>NaN</td>\n",
              "      <td>Jupiter</td>\n",
              "      <td>I (1)</td>\n",
              "      <td>Io</td>\n",
              "      <td>1,818.1±0.1</td>\n",
              "      <td>421800</td>\n",
              "      <td>1.769</td>\n",
              "      <td>1610</td>\n",
              "      <td>Galileo</td>\n",
              "      <td>Main-group moon (Galilean)</td>\n",
              "      <td>[15][16]</td>\n",
              "    </tr>\n",
              "    <tr>\n",
              "      <th>4</th>\n",
              "      <td>NaN</td>\n",
              "      <td>Jupiter</td>\n",
              "      <td>II (2)</td>\n",
              "      <td>Europa</td>\n",
              "      <td>1560.7±0.7</td>\n",
              "      <td>671100</td>\n",
              "      <td>3.551</td>\n",
              "      <td>1610</td>\n",
              "      <td>Galileo</td>\n",
              "      <td>Main-group moon (Galilean)</td>\n",
              "      <td>[15][16]</td>\n",
              "    </tr>\n",
              "  </tbody>\n",
              "</table>\n",
              "</div>"
            ],
            "text/plain": [
              "   image   planet  ...                       notes    references\n",
              "0    NaN    Earth  ...        Synchronous rotation          [12]\n",
              "1    NaN     Mars  ...                         NaN  [13][14][15]\n",
              "2    NaN     Mars  ...                         NaN  [13][14][15]\n",
              "3    NaN  Jupiter  ...  Main-group moon (Galilean)      [15][16]\n",
              "4    NaN  Jupiter  ...  Main-group moon (Galilean)      [15][16]\n",
              "\n",
              "[5 rows x 11 columns]"
            ]
          },
          "metadata": {
            "tags": []
          },
          "execution_count": 24
        }
      ]
    },
    {
      "cell_type": "markdown",
      "metadata": {
        "id": "exzgmCN1dqXg"
      },
      "source": [
        "## Part 2 (b) Reordering the columns for better understanding"
      ]
    },
    {
      "cell_type": "code",
      "metadata": {
        "id": "FNWM0MrrKW9M"
      },
      "source": [
        "#Reordering the column for better understanding\n",
        "moonDF = (moonDF[['planet', 'moon', 'number', 'discovery_year', 'discovered_by',\n",
        "                  'avg_radius', 'sm_axis', 'revolution_time', 'notes', \n",
        "                  'references', 'image']])"
      ],
      "execution_count": 25,
      "outputs": []
    },
    {
      "cell_type": "code",
      "metadata": {
        "id": "SGYMSulKExgx",
        "outputId": "50b289d2-27f2-4221-831c-b4572d3cdda2",
        "colab": {
          "base_uri": "https://localhost:8080/",
          "height": 204
        }
      },
      "source": [
        "#Let's look at the data again\n",
        "moonDF.head()"
      ],
      "execution_count": 26,
      "outputs": [
        {
          "output_type": "execute_result",
          "data": {
            "text/html": [
              "<div>\n",
              "<style scoped>\n",
              "    .dataframe tbody tr th:only-of-type {\n",
              "        vertical-align: middle;\n",
              "    }\n",
              "\n",
              "    .dataframe tbody tr th {\n",
              "        vertical-align: top;\n",
              "    }\n",
              "\n",
              "    .dataframe thead th {\n",
              "        text-align: right;\n",
              "    }\n",
              "</style>\n",
              "<table border=\"1\" class=\"dataframe\">\n",
              "  <thead>\n",
              "    <tr style=\"text-align: right;\">\n",
              "      <th></th>\n",
              "      <th>planet</th>\n",
              "      <th>moon</th>\n",
              "      <th>number</th>\n",
              "      <th>discovery_year</th>\n",
              "      <th>discovered_by</th>\n",
              "      <th>avg_radius</th>\n",
              "      <th>sm_axis</th>\n",
              "      <th>revolution_time</th>\n",
              "      <th>notes</th>\n",
              "      <th>references</th>\n",
              "      <th>image</th>\n",
              "    </tr>\n",
              "  </thead>\n",
              "  <tbody>\n",
              "    <tr>\n",
              "      <th>0</th>\n",
              "      <td>Earth</td>\n",
              "      <td>Moon</td>\n",
              "      <td>I (1)</td>\n",
              "      <td>Prehistoric</td>\n",
              "      <td>—</td>\n",
              "      <td>1737.1</td>\n",
              "      <td>384399</td>\n",
              "      <td>27.321582</td>\n",
              "      <td>Synchronous rotation</td>\n",
              "      <td>[12]</td>\n",
              "      <td>NaN</td>\n",
              "    </tr>\n",
              "    <tr>\n",
              "      <th>1</th>\n",
              "      <td>Mars</td>\n",
              "      <td>Phobos</td>\n",
              "      <td>I (1)</td>\n",
              "      <td>1877</td>\n",
              "      <td>Hall</td>\n",
              "      <td>11.1±0.15</td>\n",
              "      <td>9380</td>\n",
              "      <td>0.319</td>\n",
              "      <td>NaN</td>\n",
              "      <td>[13][14][15]</td>\n",
              "      <td>NaN</td>\n",
              "    </tr>\n",
              "    <tr>\n",
              "      <th>2</th>\n",
              "      <td>Mars</td>\n",
              "      <td>Deimos</td>\n",
              "      <td>II (2)</td>\n",
              "      <td>1877</td>\n",
              "      <td>Hall</td>\n",
              "      <td>6.2±0.18</td>\n",
              "      <td>23460</td>\n",
              "      <td>1.262</td>\n",
              "      <td>NaN</td>\n",
              "      <td>[13][14][15]</td>\n",
              "      <td>NaN</td>\n",
              "    </tr>\n",
              "    <tr>\n",
              "      <th>3</th>\n",
              "      <td>Jupiter</td>\n",
              "      <td>Io</td>\n",
              "      <td>I (1)</td>\n",
              "      <td>1610</td>\n",
              "      <td>Galileo</td>\n",
              "      <td>1,818.1±0.1</td>\n",
              "      <td>421800</td>\n",
              "      <td>1.769</td>\n",
              "      <td>Main-group moon (Galilean)</td>\n",
              "      <td>[15][16]</td>\n",
              "      <td>NaN</td>\n",
              "    </tr>\n",
              "    <tr>\n",
              "      <th>4</th>\n",
              "      <td>Jupiter</td>\n",
              "      <td>Europa</td>\n",
              "      <td>II (2)</td>\n",
              "      <td>1610</td>\n",
              "      <td>Galileo</td>\n",
              "      <td>1560.7±0.7</td>\n",
              "      <td>671100</td>\n",
              "      <td>3.551</td>\n",
              "      <td>Main-group moon (Galilean)</td>\n",
              "      <td>[15][16]</td>\n",
              "      <td>NaN</td>\n",
              "    </tr>\n",
              "  </tbody>\n",
              "</table>\n",
              "</div>"
            ],
            "text/plain": [
              "    planet    moon  number  ...                       notes    references image\n",
              "0    Earth    Moon   I (1)  ...        Synchronous rotation          [12]   NaN\n",
              "1     Mars  Phobos   I (1)  ...                         NaN  [13][14][15]   NaN\n",
              "2     Mars  Deimos  II (2)  ...                         NaN  [13][14][15]   NaN\n",
              "3  Jupiter      Io   I (1)  ...  Main-group moon (Galilean)      [15][16]   NaN\n",
              "4  Jupiter  Europa  II (2)  ...  Main-group moon (Galilean)      [15][16]   NaN\n",
              "\n",
              "[5 rows x 11 columns]"
            ]
          },
          "metadata": {
            "tags": []
          },
          "execution_count": 26
        }
      ]
    },
    {
      "cell_type": "markdown",
      "metadata": {
        "id": "mXzm88CQdqXo"
      },
      "source": [
        "## Part 2 (c) Setting the column 'planet' and 'moon' to form a two level index"
      ]
    },
    {
      "cell_type": "code",
      "metadata": {
        "id": "XzRJZl8ASeRy"
      },
      "source": [
        "#Setting the index as planet and then the moon\n",
        "(moonDF.set_index(['planet', 'moon'], inplace = True))"
      ],
      "execution_count": 27,
      "outputs": []
    },
    {
      "cell_type": "code",
      "metadata": {
        "id": "UVhcIyeyxpt-",
        "outputId": "0019c84e-3a24-4e06-d338-3e3033b1be44",
        "colab": {
          "base_uri": "https://localhost:8080/",
          "height": 235
        }
      },
      "source": [
        "#Let's look at the dataframe\n",
        "moonDF.head()"
      ],
      "execution_count": 28,
      "outputs": [
        {
          "output_type": "execute_result",
          "data": {
            "text/html": [
              "<div>\n",
              "<style scoped>\n",
              "    .dataframe tbody tr th:only-of-type {\n",
              "        vertical-align: middle;\n",
              "    }\n",
              "\n",
              "    .dataframe tbody tr th {\n",
              "        vertical-align: top;\n",
              "    }\n",
              "\n",
              "    .dataframe thead th {\n",
              "        text-align: right;\n",
              "    }\n",
              "</style>\n",
              "<table border=\"1\" class=\"dataframe\">\n",
              "  <thead>\n",
              "    <tr style=\"text-align: right;\">\n",
              "      <th></th>\n",
              "      <th></th>\n",
              "      <th>number</th>\n",
              "      <th>discovery_year</th>\n",
              "      <th>discovered_by</th>\n",
              "      <th>avg_radius</th>\n",
              "      <th>sm_axis</th>\n",
              "      <th>revolution_time</th>\n",
              "      <th>notes</th>\n",
              "      <th>references</th>\n",
              "      <th>image</th>\n",
              "    </tr>\n",
              "    <tr>\n",
              "      <th>planet</th>\n",
              "      <th>moon</th>\n",
              "      <th></th>\n",
              "      <th></th>\n",
              "      <th></th>\n",
              "      <th></th>\n",
              "      <th></th>\n",
              "      <th></th>\n",
              "      <th></th>\n",
              "      <th></th>\n",
              "      <th></th>\n",
              "    </tr>\n",
              "  </thead>\n",
              "  <tbody>\n",
              "    <tr>\n",
              "      <th>Earth</th>\n",
              "      <th>Moon</th>\n",
              "      <td>I (1)</td>\n",
              "      <td>Prehistoric</td>\n",
              "      <td>—</td>\n",
              "      <td>1737.1</td>\n",
              "      <td>384399</td>\n",
              "      <td>27.321582</td>\n",
              "      <td>Synchronous rotation</td>\n",
              "      <td>[12]</td>\n",
              "      <td>NaN</td>\n",
              "    </tr>\n",
              "    <tr>\n",
              "      <th rowspan=\"2\" valign=\"top\">Mars</th>\n",
              "      <th>Phobos</th>\n",
              "      <td>I (1)</td>\n",
              "      <td>1877</td>\n",
              "      <td>Hall</td>\n",
              "      <td>11.1±0.15</td>\n",
              "      <td>9380</td>\n",
              "      <td>0.319</td>\n",
              "      <td>NaN</td>\n",
              "      <td>[13][14][15]</td>\n",
              "      <td>NaN</td>\n",
              "    </tr>\n",
              "    <tr>\n",
              "      <th>Deimos</th>\n",
              "      <td>II (2)</td>\n",
              "      <td>1877</td>\n",
              "      <td>Hall</td>\n",
              "      <td>6.2±0.18</td>\n",
              "      <td>23460</td>\n",
              "      <td>1.262</td>\n",
              "      <td>NaN</td>\n",
              "      <td>[13][14][15]</td>\n",
              "      <td>NaN</td>\n",
              "    </tr>\n",
              "    <tr>\n",
              "      <th rowspan=\"2\" valign=\"top\">Jupiter</th>\n",
              "      <th>Io</th>\n",
              "      <td>I (1)</td>\n",
              "      <td>1610</td>\n",
              "      <td>Galileo</td>\n",
              "      <td>1,818.1±0.1</td>\n",
              "      <td>421800</td>\n",
              "      <td>1.769</td>\n",
              "      <td>Main-group moon (Galilean)</td>\n",
              "      <td>[15][16]</td>\n",
              "      <td>NaN</td>\n",
              "    </tr>\n",
              "    <tr>\n",
              "      <th>Europa</th>\n",
              "      <td>II (2)</td>\n",
              "      <td>1610</td>\n",
              "      <td>Galileo</td>\n",
              "      <td>1560.7±0.7</td>\n",
              "      <td>671100</td>\n",
              "      <td>3.551</td>\n",
              "      <td>Main-group moon (Galilean)</td>\n",
              "      <td>[15][16]</td>\n",
              "      <td>NaN</td>\n",
              "    </tr>\n",
              "  </tbody>\n",
              "</table>\n",
              "</div>"
            ],
            "text/plain": [
              "                number discovery_year  ...    references image\n",
              "planet  moon                           ...                    \n",
              "Earth   Moon     I (1)    Prehistoric  ...          [12]   NaN\n",
              "Mars    Phobos   I (1)           1877  ...  [13][14][15]   NaN\n",
              "        Deimos  II (2)           1877  ...  [13][14][15]   NaN\n",
              "Jupiter Io       I (1)           1610  ...      [15][16]   NaN\n",
              "        Europa  II (2)           1610  ...      [15][16]   NaN\n",
              "\n",
              "[5 rows x 9 columns]"
            ]
          },
          "metadata": {
            "tags": []
          },
          "execution_count": 28
        }
      ]
    },
    {
      "cell_type": "code",
      "metadata": {
        "id": "BTLjl8v6Ko_J"
      },
      "source": [
        "#Removing the image column because it has none values\n",
        "moonDF.drop(columns = ['image'], inplace = True)"
      ],
      "execution_count": 29,
      "outputs": []
    },
    {
      "cell_type": "markdown",
      "metadata": {
        "id": "-rbf6yKedqX0"
      },
      "source": [
        "## Part 2 (d) Functions to clean the columns"
      ]
    },
    {
      "cell_type": "code",
      "metadata": {
        "id": "hnt_D83--c6C"
      },
      "source": [
        "#For this function we first need to remove the ',' from the string and then extraxt the first floating number in the string\n",
        "def cleanNumericData(s):\n",
        "  num = str(s).replace(',', '')\n",
        "  return float(re.search(r'\\d*\\.\\d+|\\d+', num).group())\n",
        "\n",
        "\n",
        "#Function to clean the references column to make it a list of numeric referenes\n",
        "def cleanReferences(s):\n",
        "  splitted = str(s).split('][')\n",
        "  splittedClear = [str(item).replace('[','').replace(']','') for item in splitted]\n",
        "  return splittedClear\n",
        "\n",
        "\n",
        "#Function to clean the numeral (Now called number column to just show the numeric count the moon, remove the roman value)\n",
        "def cleanNumberColumn(s):\n",
        "  return s[s.find(\"(\")+1:s.find(\")\")]"
      ],
      "execution_count": 30,
      "outputs": []
    },
    {
      "cell_type": "code",
      "metadata": {
        "id": "c80cgHvG_ng_"
      },
      "source": [
        "#Applying the function to avg_radius, revolution_time and sm_axis column to get just the main floating point number\n",
        "moonDF.avg_radius = moonDF.avg_radius.apply(cleanNumericData)\n",
        "moonDF['sm_axis'] = moonDF.sm_axis.apply(cleanNumericData)\n",
        "moonDF['revolution_time'] = moonDF.revolution_time.apply(cleanNumericData)\n",
        "\n",
        "#Applying the function to the references column\n",
        "moonDF['references'] = moonDF.references.apply(cleanReferences)\n",
        "\n",
        "#Applying the function to the cleanNumberColumn to the number column\n",
        "moonDF['number'] = moonDF.number.apply(cleanNumberColumn)"
      ],
      "execution_count": 31,
      "outputs": []
    },
    {
      "cell_type": "code",
      "metadata": {
        "id": "yHMPB29HUj1a",
        "outputId": "2c1c8cfd-f4f8-495f-8f88-a944bf70563e",
        "colab": {
          "base_uri": "https://localhost:8080/",
          "height": 235
        }
      },
      "source": [
        "#Let's look at the dataframe\n",
        "moonDF.head()"
      ],
      "execution_count": 32,
      "outputs": [
        {
          "output_type": "execute_result",
          "data": {
            "text/html": [
              "<div>\n",
              "<style scoped>\n",
              "    .dataframe tbody tr th:only-of-type {\n",
              "        vertical-align: middle;\n",
              "    }\n",
              "\n",
              "    .dataframe tbody tr th {\n",
              "        vertical-align: top;\n",
              "    }\n",
              "\n",
              "    .dataframe thead th {\n",
              "        text-align: right;\n",
              "    }\n",
              "</style>\n",
              "<table border=\"1\" class=\"dataframe\">\n",
              "  <thead>\n",
              "    <tr style=\"text-align: right;\">\n",
              "      <th></th>\n",
              "      <th></th>\n",
              "      <th>number</th>\n",
              "      <th>discovery_year</th>\n",
              "      <th>discovered_by</th>\n",
              "      <th>avg_radius</th>\n",
              "      <th>sm_axis</th>\n",
              "      <th>revolution_time</th>\n",
              "      <th>notes</th>\n",
              "      <th>references</th>\n",
              "    </tr>\n",
              "    <tr>\n",
              "      <th>planet</th>\n",
              "      <th>moon</th>\n",
              "      <th></th>\n",
              "      <th></th>\n",
              "      <th></th>\n",
              "      <th></th>\n",
              "      <th></th>\n",
              "      <th></th>\n",
              "      <th></th>\n",
              "      <th></th>\n",
              "    </tr>\n",
              "  </thead>\n",
              "  <tbody>\n",
              "    <tr>\n",
              "      <th>Earth</th>\n",
              "      <th>Moon</th>\n",
              "      <td>1</td>\n",
              "      <td>Prehistoric</td>\n",
              "      <td>—</td>\n",
              "      <td>1737.1</td>\n",
              "      <td>384399.0</td>\n",
              "      <td>27.321582</td>\n",
              "      <td>Synchronous rotation</td>\n",
              "      <td>[12]</td>\n",
              "    </tr>\n",
              "    <tr>\n",
              "      <th rowspan=\"2\" valign=\"top\">Mars</th>\n",
              "      <th>Phobos</th>\n",
              "      <td>1</td>\n",
              "      <td>1877</td>\n",
              "      <td>Hall</td>\n",
              "      <td>11.1</td>\n",
              "      <td>9380.0</td>\n",
              "      <td>0.319000</td>\n",
              "      <td>NaN</td>\n",
              "      <td>[13, 14, 15]</td>\n",
              "    </tr>\n",
              "    <tr>\n",
              "      <th>Deimos</th>\n",
              "      <td>2</td>\n",
              "      <td>1877</td>\n",
              "      <td>Hall</td>\n",
              "      <td>6.2</td>\n",
              "      <td>23460.0</td>\n",
              "      <td>1.262000</td>\n",
              "      <td>NaN</td>\n",
              "      <td>[13, 14, 15]</td>\n",
              "    </tr>\n",
              "    <tr>\n",
              "      <th rowspan=\"2\" valign=\"top\">Jupiter</th>\n",
              "      <th>Io</th>\n",
              "      <td>1</td>\n",
              "      <td>1610</td>\n",
              "      <td>Galileo</td>\n",
              "      <td>1818.1</td>\n",
              "      <td>421800.0</td>\n",
              "      <td>1.769000</td>\n",
              "      <td>Main-group moon (Galilean)</td>\n",
              "      <td>[15, 16]</td>\n",
              "    </tr>\n",
              "    <tr>\n",
              "      <th>Europa</th>\n",
              "      <td>2</td>\n",
              "      <td>1610</td>\n",
              "      <td>Galileo</td>\n",
              "      <td>1560.7</td>\n",
              "      <td>671100.0</td>\n",
              "      <td>3.551000</td>\n",
              "      <td>Main-group moon (Galilean)</td>\n",
              "      <td>[15, 16]</td>\n",
              "    </tr>\n",
              "  </tbody>\n",
              "</table>\n",
              "</div>"
            ],
            "text/plain": [
              "               number discovery_year  ...                       notes    references\n",
              "planet  moon                          ...                                          \n",
              "Earth   Moon        1    Prehistoric  ...        Synchronous rotation          [12]\n",
              "Mars    Phobos      1           1877  ...                         NaN  [13, 14, 15]\n",
              "        Deimos      2           1877  ...                         NaN  [13, 14, 15]\n",
              "Jupiter Io          1           1610  ...  Main-group moon (Galilean)      [15, 16]\n",
              "        Europa      2           1610  ...  Main-group moon (Galilean)      [15, 16]\n",
              "\n",
              "[5 rows x 8 columns]"
            ]
          },
          "metadata": {
            "tags": []
          },
          "execution_count": 32
        }
      ]
    },
    {
      "cell_type": "markdown",
      "metadata": {
        "id": "ataLH1sGdqX7"
      },
      "source": [
        "## Part (3) \n",
        "### I'm trying to answer the question that what is the average radius of the revolution orbit of the moons, grouped by planets?"
      ]
    },
    {
      "cell_type": "code",
      "metadata": {
        "id": "jOhgwpMfUlEK",
        "outputId": "fe2fd3a9-963b-41a0-bd13-6af4e631daab",
        "colab": {
          "base_uri": "https://localhost:8080/",
          "height": 235
        }
      },
      "source": [
        "#What is the average radius of the moon per planet for the top 5 avg radii.\n",
        "avgMoonDF = moonDF.reset_index().groupby(by = ['planet']).mean().sort_values(by = ['sm_axis'], ascending = False).head(5)\n",
        "avgMoonDF"
      ],
      "execution_count": 33,
      "outputs": [
        {
          "output_type": "execute_result",
          "data": {
            "text/html": [
              "<div>\n",
              "<style scoped>\n",
              "    .dataframe tbody tr th:only-of-type {\n",
              "        vertical-align: middle;\n",
              "    }\n",
              "\n",
              "    .dataframe tbody tr th {\n",
              "        vertical-align: top;\n",
              "    }\n",
              "\n",
              "    .dataframe thead th {\n",
              "        text-align: right;\n",
              "    }\n",
              "</style>\n",
              "<table border=\"1\" class=\"dataframe\">\n",
              "  <thead>\n",
              "    <tr style=\"text-align: right;\">\n",
              "      <th></th>\n",
              "      <th>avg_radius</th>\n",
              "      <th>sm_axis</th>\n",
              "      <th>revolution_time</th>\n",
              "    </tr>\n",
              "    <tr>\n",
              "      <th>planet</th>\n",
              "      <th></th>\n",
              "      <th></th>\n",
              "      <th></th>\n",
              "    </tr>\n",
              "  </thead>\n",
              "  <tbody>\n",
              "    <tr>\n",
              "      <th>Jupiter</th>\n",
              "      <td>112.664557</td>\n",
              "      <td>1.899521e+07</td>\n",
              "      <td>571.688873</td>\n",
              "    </tr>\n",
              "    <tr>\n",
              "      <th>Saturn</th>\n",
              "      <td>78.400366</td>\n",
              "      <td>1.408357e+07</td>\n",
              "      <td>742.173494</td>\n",
              "    </tr>\n",
              "    <tr>\n",
              "      <th>Neptune</th>\n",
              "      <td>158.378571</td>\n",
              "      <td>1.165578e+07</td>\n",
              "      <td>1915.823514</td>\n",
              "    </tr>\n",
              "    <tr>\n",
              "      <th>Uranus</th>\n",
              "      <td>132.422222</td>\n",
              "      <td>4.134024e+06</td>\n",
              "      <td>458.386704</td>\n",
              "    </tr>\n",
              "    <tr>\n",
              "      <th>Earth</th>\n",
              "      <td>1737.100000</td>\n",
              "      <td>3.843990e+05</td>\n",
              "      <td>27.321582</td>\n",
              "    </tr>\n",
              "  </tbody>\n",
              "</table>\n",
              "</div>"
            ],
            "text/plain": [
              "          avg_radius       sm_axis  revolution_time\n",
              "planet                                             \n",
              "Jupiter   112.664557  1.899521e+07       571.688873\n",
              "Saturn     78.400366  1.408357e+07       742.173494\n",
              "Neptune   158.378571  1.165578e+07      1915.823514\n",
              "Uranus    132.422222  4.134024e+06       458.386704\n",
              "Earth    1737.100000  3.843990e+05        27.321582"
            ]
          },
          "metadata": {
            "tags": []
          },
          "execution_count": 33
        }
      ]
    },
    {
      "cell_type": "code",
      "metadata": {
        "id": "Yn04ZHwlVVAt",
        "outputId": "ba15e762-d404-4cb9-a8ea-7a580d74e534",
        "colab": {
          "base_uri": "https://localhost:8080/",
          "height": 312
        }
      },
      "source": [
        "plt.bar(avgMoonDF.index, avgMoonDF.sm_axis)\n",
        "plt.title('Average Radii of the moons for various planets')\n",
        "plt.xlabel('Planet')\n",
        "plt.ylabel('Avg Radii in KM (10^7)')"
      ],
      "execution_count": 34,
      "outputs": [
        {
          "output_type": "execute_result",
          "data": {
            "text/plain": [
              "Text(0, 0.5, 'Avg Radii in KM (10^7)')"
            ]
          },
          "metadata": {
            "tags": []
          },
          "execution_count": 34
        },
        {
          "output_type": "display_data",
          "data": {
            "image/png": "[encoded data removed]",
            "text/plain": [
              "<Figure size 432x288 with 1 Axes>"
            ]
          },
          "metadata": {
            "tags": [],
            "needs_background": "light"
          }
        }
      ]
    },
    {
      "cell_type": "markdown",
      "metadata": {
        "id": "rCSE4PEnebyv"
      },
      "source": [
        "### As we can see that Jupiter has the highest average radii of the moons orbit, which makes sense because Jupiter is the biggest planet in the solar system."
      ]
    }
  ]
}